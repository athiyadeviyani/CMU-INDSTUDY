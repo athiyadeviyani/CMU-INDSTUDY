{
 "cells": [
  {
   "cell_type": "code",
   "execution_count": 1,
   "id": "403f0efb",
   "metadata": {},
   "outputs": [],
   "source": [
    "import numpy as np\n",
    "import pandas as pd"
   ]
  },
  {
   "cell_type": "code",
   "execution_count": 6,
   "id": "7dd84afb",
   "metadata": {},
   "outputs": [],
   "source": [
    "mapping = pd.read_csv(\"numbermap.csv\", header=None, index_col=0, squeeze=True).to_dict()"
   ]
  },
  {
   "cell_type": "code",
   "execution_count": 7,
   "id": "82548d50",
   "metadata": {},
   "outputs": [
    {
     "data": {
      "text/plain": [
       "{'0': 'zero',\n",
       " '1': 'one',\n",
       " '2': 'two',\n",
       " '3': 'three',\n",
       " '4': 'four',\n",
       " '5': 'five',\n",
       " '6': 'six',\n",
       " '7': 'seven',\n",
       " '8': 'eight',\n",
       " '9': 'nine',\n",
       " '10': 'ten',\n",
       " '11': 'eleven',\n",
       " '12': 'twelve',\n",
       " '13': 'thirteen',\n",
       " '14': 'fourteen',\n",
       " '15': 'fifteen',\n",
       " '16': 'sixteen',\n",
       " '17': 'seventeen',\n",
       " '18': 'eighteen',\n",
       " '19': 'nineteen',\n",
       " '20': 'twenty',\n",
       " '21': 'twenty one',\n",
       " '22': 'twenty two',\n",
       " '23': 'twenty three',\n",
       " '24': 'twenty four',\n",
       " '25': 'twenty five',\n",
       " '26': 'twenty six',\n",
       " '27': 'twenty seven',\n",
       " '28': 'twenty eight',\n",
       " '29': 'twenty nine',\n",
       " '30': 'thirty',\n",
       " '31': 'thirty one',\n",
       " '32': 'thirty two ',\n",
       " '33': 'thirty three',\n",
       " '34': 'thirty four',\n",
       " '35': 'thirty five',\n",
       " '36': 'thirty six',\n",
       " '37': 'thirty seven',\n",
       " '38': 'thirty eight',\n",
       " '39': 'thirty nine',\n",
       " '40': 'forty ',\n",
       " '41': 'forty one',\n",
       " '42': 'forty two',\n",
       " '43': 'forty three',\n",
       " '44': 'forty four',\n",
       " '45': 'forty five',\n",
       " '46': 'forty six',\n",
       " '47': 'forty seven',\n",
       " '48': 'forty eight',\n",
       " '49': 'forty nine',\n",
       " '50': 'fifty ',\n",
       " '51': 'fifty one',\n",
       " '52': 'fifty two',\n",
       " '53': 'fifty three',\n",
       " '54': 'ffifty four ',\n",
       " '55': 'fifty five',\n",
       " '56': 'fifty six',\n",
       " '57': 'fifty seven',\n",
       " '58': 'fifty eight',\n",
       " '59': 'fifty nine',\n",
       " '60': 'sixty',\n",
       " '61': 'sixty one',\n",
       " '62': 'sixty two',\n",
       " '63': 'sixty three',\n",
       " '64': 'sixty four',\n",
       " '65': 'sixty five',\n",
       " '66': 'sixty six',\n",
       " '67': 'sixty seven',\n",
       " '68': 'sixty eight',\n",
       " '69': 'sixty nine',\n",
       " '70': 'seventy',\n",
       " '71': 'seventy one',\n",
       " '72': 'seventy two',\n",
       " '73': 'seventy three',\n",
       " '74': 'seventy four',\n",
       " '75': 'seventy five',\n",
       " '76': 'seventy six',\n",
       " '77': 'seventy seven',\n",
       " '78': 'seventy eight',\n",
       " '79': 'seventy nine',\n",
       " '80': 'eighty',\n",
       " '81': 'eighty one',\n",
       " '82': 'eighty two',\n",
       " '83': 'eighty three',\n",
       " '84': 'eighty four',\n",
       " '85': 'eighty five',\n",
       " '86': 'eighty six',\n",
       " '87': 'eighty seven',\n",
       " '88': 'eighty eight',\n",
       " '89': 'eighty nine',\n",
       " '90': 'ninety',\n",
       " '91': 'ninety one',\n",
       " '92': 'ninety two',\n",
       " '93': 'ninety three',\n",
       " '94': 'ninety four',\n",
       " '95': 'ninety five',\n",
       " '96': 'ninety six',\n",
       " '97': 'ninety seven',\n",
       " '98': 'ninety eight',\n",
       " '99': 'ninety nine',\n",
       " '100': 'hundred',\n",
       " '1000': 'thousand',\n",
       " '10000': 'ten thousand',\n",
       " '100000': 'hundred thousand',\n",
       " '1000000': 'million',\n",
       " '10000000': 'ten million',\n",
       " '100000000': 'hundred million',\n",
       " '1000000000': 'billion',\n",
       " '-': 'negative',\n",
       " '.': 'point',\n",
       " ',': 'comma',\n",
       " 'and': 'FALSE',\n",
       " 'currency_symbol': '$',\n",
       " 'currency': 'dollar',\n",
       " 'percent': 'percent',\n",
       " '+': 'plus'}"
      ]
     },
     "execution_count": 7,
     "metadata": {},
     "output_type": "execute_result"
    }
   ],
   "source": [
    "mapping"
   ]
  },
  {
   "cell_type": "code",
   "execution_count": 216,
   "id": "5a201fda",
   "metadata": {},
   "outputs": [],
   "source": [
    "mapping[''] = ''\n",
    "mapping['%'] = 'percent'"
   ]
  },
  {
   "cell_type": "code",
   "execution_count": 130,
   "id": "176e8d50",
   "metadata": {},
   "outputs": [],
   "source": [
    "tens = {\n",
    "# '100': 'hundred',\n",
    " '': '',\n",
    " '1000': 'thousand',\n",
    "#  '10000': 'ten thousand',\n",
    "#  '100000': 'hundred thousand',\n",
    " '1000000': 'million',\n",
    "#  '10000000': 'ten million',\n",
    "#  '100000000': 'hundred million',\n",
    " '1000000000': 'billion'}\n",
    "\n",
    "tens_keys = list(tens.keys())"
   ]
  },
  {
   "cell_type": "code",
   "execution_count": 131,
   "id": "9ef76d3e",
   "metadata": {},
   "outputs": [
    {
     "data": {
      "text/plain": [
       "['', '1000', '1000000', '1000000000']"
      ]
     },
     "execution_count": 131,
     "metadata": {},
     "output_type": "execute_result"
    }
   ],
   "source": [
    "tens_keys"
   ]
  },
  {
   "cell_type": "code",
   "execution_count": 228,
   "id": "8f2e148d",
   "metadata": {},
   "outputs": [],
   "source": [
    "def read_whole_number(string):\n",
    "    rev = string[::-1]\n",
    "    chunks = []\n",
    "    for i in range(0,len(rev),3):\n",
    "        chunks.append(rev[i:i+3][::-1])\n",
    "    chunks = chunks[::-1]\n",
    "    result = \"\"\n",
    "    tens_idx = len(chunks)-1\n",
    "    \n",
    "    for chunk in chunks:\n",
    "        if len(chunk) < 3:\n",
    "            result += mapping[chunk] + ' '\n",
    "            result += tens[tens_keys[tens_idx]] + ' '\n",
    "        elif chunk == '000':\n",
    "            result = result\n",
    "        else:\n",
    "            result += process_chunk(chunk) + ' '\n",
    "            result += tens[tens_keys[tens_idx]] + ' '\n",
    "        tens_idx -= 1\n",
    "    return result\n",
    "    \n",
    "def process_chunk(string):\n",
    "    hundreds = string[0]\n",
    "    if hundreds == '0':\n",
    "        hundred_string = ''\n",
    "        tens = str(int(string[1:]))\n",
    "        if tens == '0':\n",
    "            return ''\n",
    "        else:\n",
    "            return mapping[tens]\n",
    "    else:\n",
    "        hundred_string = hundreds\n",
    "        tens = str(int(string[1:]))\n",
    "        if tens == '0':\n",
    "            return mapping[hundred_string] + ' ' + mapping['100']\n",
    "        else:\n",
    "            return mapping[hundred_string] + ' ' + mapping['100'] + ' ' + mapping[tens]\n",
    "    "
   ]
  },
  {
   "cell_type": "code",
   "execution_count": 229,
   "id": "575fea2b",
   "metadata": {},
   "outputs": [],
   "source": [
    "def read_all(string):\n",
    "    res = \"\"\n",
    "    for n in string:\n",
    "        res += mapping[n] + ' '\n",
    "    return res"
   ]
  },
  {
   "cell_type": "code",
   "execution_count": 312,
   "id": "fa31adfa",
   "metadata": {},
   "outputs": [],
   "source": [
    "def read_number(string):\n",
    "    if string.isnumeric() and 1500 < int(string) < 2100:\n",
    "        if string[1:-1] == '00':\n",
    "            return read_whole_number(string)\n",
    "        elif string[-2:] == '00':\n",
    "            return read_whole_number(string[:2]) + 'hundred'\n",
    "        else:\n",
    "            if string[2:][0] == '0':\n",
    "                return read_whole_number(string[:2]) + 'zero ' + read_whole_number(string[3:])\n",
    "            else:\n",
    "                return read_whole_number(string[:2]) + read_whole_number(string[2:])\n",
    "    elif mapping['currency_symbol'] in string:\n",
    "        return read_number(string[1:]) + mapping['currency'] + 's'\n",
    "    elif '-' in string:\n",
    "        return mapping['-'] + read_number(string[1:])\n",
    "    elif '.' in string:\n",
    "        if string[-1] == '.':\n",
    "            return read_number(string[:-1])\n",
    "        s1, s2 = string.split('.')\n",
    "        return read_whole_number(s1) + mapping['.'] + ' ' + read_all(s2)\n",
    "    elif '+' in string: #phone number?\n",
    "        return mapping['+'] + ' ' + read_all(string[1:])\n",
    "    elif '%' in string:\n",
    "        return read_number(string[:-1]) + ' ' + mapping['%']\n",
    "    else:\n",
    "        return read_whole_number(string)"
   ]
  },
  {
   "cell_type": "code",
   "execution_count": 313,
   "id": "0d07b4c3",
   "metadata": {},
   "outputs": [],
   "source": [
    "def process_final(string):\n",
    "    return ' '.join([x for x in read_number(string).split(' ') if x!= ''])"
   ]
  },
  {
   "cell_type": "code",
   "execution_count": 314,
   "id": "3d659abe",
   "metadata": {},
   "outputs": [
    {
     "name": "stdout",
     "output_type": "stream",
     "text": [
      "1534 fifteen thirty four\n",
      "1882 eighteen eighty two\n",
      "1700 seventeen hundred\n",
      "1611 sixteen eleven\n",
      "1803 eighteen zero three\n",
      "1818 eighteen eighteen\n",
      "1623 sixteen twenty three\n",
      "1620 sixteen twenty\n",
      "1538 fifteen thirty eight\n",
      "1904 nineteen zero four\n"
     ]
    }
   ],
   "source": [
    "for _ in range(10):\n",
    "    n = np.random.randint(1500, 2100)\n",
    "    print(n, process_final(str(n)))"
   ]
  },
  {
   "cell_type": "code",
   "execution_count": 315,
   "id": "22621e01",
   "metadata": {},
   "outputs": [],
   "source": [
    "import string\n",
    "def process_text(s):\n",
    "    tokens = s.split(' ')\n",
    "    tokens = [token for token in tokens if token not in string.punctuation]\n",
    "    sentence = []\n",
    "    for token in tokens:\n",
    "        if any(i.isdigit() for i in token):\n",
    "            sentence.append(process_final(token))\n",
    "        else:\n",
    "            sentence.append(token)\n",
    "    return ' '.join(sentence)"
   ]
  },
  {
   "cell_type": "code",
   "execution_count": 316,
   "id": "e9f0945e",
   "metadata": {},
   "outputs": [
    {
     "data": {
      "text/plain": [
       "'Athiya Deviyani is twenty two years old and is born in nineteen ninety nine'"
      ]
     },
     "execution_count": 316,
     "metadata": {},
     "output_type": "execute_result"
    }
   ],
   "source": [
    "process_text('Athiya Deviyani is 22 years old and is born in 1999.')"
   ]
  },
  {
   "cell_type": "code",
   "execution_count": null,
   "id": "9382514a",
   "metadata": {},
   "outputs": [],
   "source": []
  }
 ],
 "metadata": {
  "kernelspec": {
   "display_name": "Python 3",
   "language": "python",
   "name": "python3"
  },
  "language_info": {
   "codemirror_mode": {
    "name": "ipython",
    "version": 3
   },
   "file_extension": ".py",
   "mimetype": "text/x-python",
   "name": "python",
   "nbconvert_exporter": "python",
   "pygments_lexer": "ipython3",
   "version": "3.8.5"
  }
 },
 "nbformat": 4,
 "nbformat_minor": 5
}
